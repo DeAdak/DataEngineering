{
 "cells": [
  {
   "cell_type": "markdown",
   "id": "cd712f45",
   "metadata": {},
   "source": [
    "# Create table in PostgreSQL"
   ]
  },
  {
   "cell_type": "code",
   "execution_count": 1,
   "id": "298b4873",
   "metadata": {},
   "outputs": [
    {
     "name": "stdout",
     "output_type": "stream",
     "text": [
      "Collecting psycopg2\n",
      "  Downloading psycopg2-2.9.5.tar.gz (384 kB)\n",
      "\u001b[2K     \u001b[38;2;114;156;31m━━━━━━━━━━━━━━━━━━━━━━━━━━━━━━━━━━━━━━━\u001b[0m \u001b[32m384.3/384.3 kB\u001b[0m \u001b[31m1.9 MB/s\u001b[0m eta \u001b[36m0:00:00\u001b[0m[36m0:00:01\u001b[0mm eta \u001b[36m0:00:01\u001b[0m\n",
      "\u001b[?25h  Preparing metadata (setup.py) ... \u001b[?25ldone\n",
      "\u001b[?25hBuilding wheels for collected packages: psycopg2\n",
      "  Building wheel for psycopg2 (setup.py) ... \u001b[?25ldone\n",
      "\u001b[?25h  Created wheel for psycopg2: filename=psycopg2-2.9.5-cp39-cp39-linux_x86_64.whl size=166134 sha256=e5599cb81b9c63dff466df0f435e768c0fd42bed714efb603519e4eff2c3b143\n",
      "  Stored in directory: /home/deba/.cache/pip/wheels/37/c1/ad/4ee49165718dff2c018c9830204ef8e749afdce7919f078586\n",
      "Successfully built psycopg2\n",
      "Installing collected packages: psycopg2\n",
      "Successfully installed psycopg2-2.9.5\n"
     ]
    }
   ],
   "source": [
    "# psycopg2 is used to connect to DB, run query: DDL,DML\n",
    "!pip install psycopg2"
   ]
  },
  {
   "cell_type": "code",
   "execution_count": 2,
   "id": "cedf8efd",
   "metadata": {},
   "outputs": [],
   "source": [
    "import psycopg2"
   ]
  },
  {
   "cell_type": "code",
   "execution_count": 26,
   "id": "f74aaa39",
   "metadata": {},
   "outputs": [],
   "source": [
    "# Connect to DB\n",
    "try:\n",
    "    conn=psycopg2.connect(\"host=localhost dbname=postgres user=postgres password=root\")\n",
    "except psycopg2.Error as e:\n",
    "    print('Connection not established!!')\n",
    "    print(e)"
   ]
  },
  {
   "cell_type": "code",
   "execution_count": 10,
   "id": "f29c43da",
   "metadata": {},
   "outputs": [],
   "source": [
    "# create cursor to execute queries\n",
    "try:\n",
    "    cur=conn.cursor()\n",
    "except psycopg2.Error as e:\n",
    "    print('Cursor not created!')\n",
    "    print(e)"
   ]
  },
  {
   "cell_type": "code",
   "execution_count": 11,
   "id": "f4685b0d",
   "metadata": {},
   "outputs": [],
   "source": [
    "# set commit\n",
    "conn.set_session(autocommit=True)"
   ]
  },
  {
   "cell_type": "code",
   "execution_count": 13,
   "id": "55bd7b2f",
   "metadata": {},
   "outputs": [
    {
     "name": "stdout",
     "output_type": "stream",
     "text": [
      "DB not created!\n",
      "database \"myfirstdb\" already exists\n",
      "\n"
     ]
    }
   ],
   "source": [
    "try:\n",
    "    cur.execute('create database myfirstdb')\n",
    "except psycopg2.Error as e:\n",
    "    print('DB not created!')\n",
    "    print(e)"
   ]
  },
  {
   "cell_type": "code",
   "execution_count": 31,
   "id": "60b8d363",
   "metadata": {},
   "outputs": [],
   "source": [
    "#close conntion and connect to my new DB\n",
    "try:\n",
    "    conn.close()\n",
    "except psycopg2.Error as e:\n",
    "    print(e)\n",
    "#########################################\n",
    "import psycopg2\n",
    "\n",
    "try:\n",
    "    conn=psycopg2.connect('host=localhost dbname=myfirstdb user=postgres password=root')\n",
    "except psycopg2.Error as e:\n",
    "    print('psycpog2.connect')\n",
    "    print(e)\n",
    "    \n",
    "try:\n",
    "    cur=conn.cursor()\n",
    "except psycopg2.Error as e:\n",
    "    print('conn.cursor')\n",
    "    print(e)\n",
    "    \n",
    "conn.set_session(autocommit=True)"
   ]
  },
  {
   "cell_type": "code",
   "execution_count": 16,
   "id": "e8859707",
   "metadata": {},
   "outputs": [],
   "source": [
    "try:\n",
    "    cur.execute('create table if not exists student (student_id int,name varchar,age int,gender varchar,subject varchar,marks int);')\n",
    "except psycopg2.Error as e:\n",
    "    print('create table')\n",
    "    print(e)"
   ]
  },
  {
   "cell_type": "code",
   "execution_count": 18,
   "id": "bde22665",
   "metadata": {},
   "outputs": [],
   "source": [
    "try: \n",
    "    cur.execute(\"INSERT INTO student (student_id, name, age, gender, subject, marks) \\\n",
    "                 VALUES (%s, %s, %s, %s, %s, %s)\", \\\n",
    "                 (1, \"Raj\", 23, \"Male\", \"Python\", 85))\n",
    "except psycopg2.Error as e: \n",
    "    print(\"Error: Inserting Rows\")\n",
    "    print (e)\n",
    "    \n",
    "try: \n",
    "    cur.execute(\"INSERT INTO student (student_id, name, age, gender, subject, marks) \\\n",
    "                  VALUES (%s, %s, %s, %s, %s, %s)\",\n",
    "                  ( 2, \"Priya\", 22, \"Female\", \"Python\", 86))\n",
    "except psycopg2.Error as e: \n",
    "    print(\"Error: Inserting Rows\")\n",
    "    print (e)"
   ]
  },
  {
   "cell_type": "code",
   "execution_count": 32,
   "id": "0b879560",
   "metadata": {},
   "outputs": [],
   "source": [
    "try:\n",
    "    cur.execute('select * from student;')\n",
    "except psycopg2.Error as e:\n",
    "    print('select * from student;')\n",
    "    print(e)"
   ]
  },
  {
   "cell_type": "code",
   "execution_count": 20,
   "id": "e0aec8c8",
   "metadata": {},
   "outputs": [
    {
     "name": "stdout",
     "output_type": "stream",
     "text": [
      "(1, 'Raj', 23, 'Male', 'Python', 85)\n",
      "(2, 'Priya', 22, 'Female', 'Python', 86)\n"
     ]
    }
   ],
   "source": [
    "row=cur.fetchone()\n",
    "while row:\n",
    "    print(row)\n",
    "    row=cur.fetchone()"
   ]
  },
  {
   "cell_type": "code",
   "execution_count": 29,
   "id": "36eedc96",
   "metadata": {},
   "outputs": [],
   "source": [
    "cur.close()\n",
    "conn.close()"
   ]
  },
  {
   "cell_type": "code",
   "execution_count": null,
   "id": "a9cf295f",
   "metadata": {},
   "outputs": [],
   "source": [
    "#2nd chapter"
   ]
  },
  {
   "cell_type": "code",
   "execution_count": 127,
   "id": "a8e1e160",
   "metadata": {},
   "outputs": [],
   "source": [
    "import psycopg2"
   ]
  },
  {
   "cell_type": "code",
   "execution_count": 128,
   "id": "51a50f34",
   "metadata": {},
   "outputs": [],
   "source": [
    "def set_database(host,dbname,user,password):\n",
    "    try:\n",
    "        conn=psycopg2.connect(f'dbname={dbname} user={user} host={host} password={password}')\n",
    "    except psycopg2.Error as e:\n",
    "        print('Connection not established!!')\n",
    "        print(e)\n",
    "    \n",
    "    try:\n",
    "        cur=conn.cursor()\n",
    "    except psycopg2.Error as e:\n",
    "        print('Cursor not created!')\n",
    "        print(e)\n",
    "    \n",
    "    print('Connection established!!')\n",
    "    conn.set_session(autocommit=True)\n",
    "    return cur, conn"
   ]
  },
  {
   "cell_type": "code",
   "execution_count": 129,
   "id": "6c5b82a8",
   "metadata": {},
   "outputs": [
    {
     "name": "stdout",
     "output_type": "stream",
     "text": [
      "Host: localhost\n",
      "DB_name: myfirstdb\n",
      "user: postgres\n",
      "password: root\n",
      "Connection established!!\n"
     ]
    }
   ],
   "source": [
    "host = input('Host: ')\n",
    "dbname=input('DB_name: ')\n",
    "user=input('user: ')\n",
    "password=input('password: ')\n",
    "cur,conn=set_database(host,dbname,user,password)"
   ]
  },
  {
   "cell_type": "code",
   "execution_count": 130,
   "id": "acf88003",
   "metadata": {},
   "outputs": [],
   "source": [
    "import pandas as pd"
   ]
  },
  {
   "cell_type": "code",
   "execution_count": 131,
   "id": "59ab0665",
   "metadata": {},
   "outputs": [],
   "source": [
    "df=pd.read_csv(r'/home/deba/Downloads/P_Data_Extract_From_Wealth_Accounts/data.csv')"
   ]
  },
  {
   "cell_type": "code",
   "execution_count": 132,
   "id": "ccfc7e34",
   "metadata": {},
   "outputs": [
    {
     "data": {
      "text/html": [
       "<div>\n",
       "<style scoped>\n",
       "    .dataframe tbody tr th:only-of-type {\n",
       "        vertical-align: middle;\n",
       "    }\n",
       "\n",
       "    .dataframe tbody tr th {\n",
       "        vertical-align: top;\n",
       "    }\n",
       "\n",
       "    .dataframe thead th {\n",
       "        text-align: right;\n",
       "    }\n",
       "</style>\n",
       "<table border=\"1\" class=\"dataframe\">\n",
       "  <thead>\n",
       "    <tr style=\"text-align: right;\">\n",
       "      <th></th>\n",
       "      <th>Country Name</th>\n",
       "      <th>Country Code</th>\n",
       "      <th>Series Name</th>\n",
       "      <th>Series Code</th>\n",
       "      <th>2014 [YR2014]</th>\n",
       "      <th>2015 [YR2015]</th>\n",
       "      <th>2016 [YR2016]</th>\n",
       "      <th>2017 [YR2017]</th>\n",
       "      <th>2018 [YR2018]</th>\n",
       "    </tr>\n",
       "  </thead>\n",
       "  <tbody>\n",
       "    <tr>\n",
       "      <th>0</th>\n",
       "      <td>Albania</td>\n",
       "      <td>ALB</td>\n",
       "      <td>Human capital (constant 2018 US$)</td>\n",
       "      <td>NW.HCA.TO</td>\n",
       "      <td>7.248767e+10</td>\n",
       "      <td>7.372787e+10</td>\n",
       "      <td>7.571698e+10</td>\n",
       "      <td>7.804556e+10</td>\n",
       "      <td>8.121498e+10</td>\n",
       "    </tr>\n",
       "    <tr>\n",
       "      <th>1</th>\n",
       "      <td>Albania</td>\n",
       "      <td>ALB</td>\n",
       "      <td>Human capital per capita (constant 2018 US$)</td>\n",
       "      <td>NW.HCA.PC</td>\n",
       "      <td>2.509002e+04</td>\n",
       "      <td>2.559371e+04</td>\n",
       "      <td>2.632626e+04</td>\n",
       "      <td>2.716086e+04</td>\n",
       "      <td>2.833368e+04</td>\n",
       "    </tr>\n",
       "    <tr>\n",
       "      <th>2</th>\n",
       "      <td>Albania</td>\n",
       "      <td>ALB</td>\n",
       "      <td>Human capital per capita, employed female (con...</td>\n",
       "      <td>NW.HCA.FEMP.PC</td>\n",
       "      <td>2.957420e+03</td>\n",
       "      <td>2.987545e+03</td>\n",
       "      <td>3.072504e+03</td>\n",
       "      <td>3.178417e+03</td>\n",
       "      <td>3.312927e+03</td>\n",
       "    </tr>\n",
       "    <tr>\n",
       "      <th>3</th>\n",
       "      <td>Albania</td>\n",
       "      <td>ALB</td>\n",
       "      <td>Human capital per capita, employed male (const...</td>\n",
       "      <td>NW.HCA.MEMP.PC</td>\n",
       "      <td>1.699138e+04</td>\n",
       "      <td>1.730701e+04</td>\n",
       "      <td>1.781710e+04</td>\n",
       "      <td>1.844594e+04</td>\n",
       "      <td>1.924519e+04</td>\n",
       "    </tr>\n",
       "    <tr>\n",
       "      <th>4</th>\n",
       "      <td>Albania</td>\n",
       "      <td>ALB</td>\n",
       "      <td>Human capital per capita, female (constant 201...</td>\n",
       "      <td>NW.HCA.FEMA.PC</td>\n",
       "      <td>3.719608e+03</td>\n",
       "      <td>3.767628e+03</td>\n",
       "      <td>3.872142e+03</td>\n",
       "      <td>3.992188e+03</td>\n",
       "      <td>4.161137e+03</td>\n",
       "    </tr>\n",
       "  </tbody>\n",
       "</table>\n",
       "</div>"
      ],
      "text/plain": [
       "  Country Name Country Code  \\\n",
       "0      Albania          ALB   \n",
       "1      Albania          ALB   \n",
       "2      Albania          ALB   \n",
       "3      Albania          ALB   \n",
       "4      Albania          ALB   \n",
       "\n",
       "                                         Series Name     Series Code  \\\n",
       "0                  Human capital (constant 2018 US$)       NW.HCA.TO   \n",
       "1       Human capital per capita (constant 2018 US$)       NW.HCA.PC   \n",
       "2  Human capital per capita, employed female (con...  NW.HCA.FEMP.PC   \n",
       "3  Human capital per capita, employed male (const...  NW.HCA.MEMP.PC   \n",
       "4  Human capital per capita, female (constant 201...  NW.HCA.FEMA.PC   \n",
       "\n",
       "   2014 [YR2014]  2015 [YR2015]  2016 [YR2016]  2017 [YR2017]  2018 [YR2018]  \n",
       "0   7.248767e+10   7.372787e+10   7.571698e+10   7.804556e+10   8.121498e+10  \n",
       "1   2.509002e+04   2.559371e+04   2.632626e+04   2.716086e+04   2.833368e+04  \n",
       "2   2.957420e+03   2.987545e+03   3.072504e+03   3.178417e+03   3.312927e+03  \n",
       "3   1.699138e+04   1.730701e+04   1.781710e+04   1.844594e+04   1.924519e+04  \n",
       "4   3.719608e+03   3.767628e+03   3.872142e+03   3.992188e+03   4.161137e+03  "
      ]
     },
     "execution_count": 132,
     "metadata": {},
     "output_type": "execute_result"
    }
   ],
   "source": [
    "df.head()"
   ]
  },
  {
   "cell_type": "code",
   "execution_count": 133,
   "id": "d8c1812c",
   "metadata": {},
   "outputs": [],
   "source": [
    "w_acc_query=('''create table if not exists w_acc (Country_Name varchar , Country_Code varchar,Series_Name varchar,YR2014 varchar, YR2015 varchar)''')"
   ]
  },
  {
   "cell_type": "code",
   "execution_count": 134,
   "id": "3675be2d",
   "metadata": {},
   "outputs": [],
   "source": [
    "cur.execute(w_acc_query)\n",
    "conn.commit()"
   ]
  },
  {
   "cell_type": "code",
   "execution_count": 135,
   "id": "629ad9b5",
   "metadata": {},
   "outputs": [],
   "source": [
    "df_cut=df[['Country Name','Country Code','Series Name','2014 [YR2014]','2015 [YR2015]']]"
   ]
  },
  {
   "cell_type": "code",
   "execution_count": 136,
   "id": "a7273b72",
   "metadata": {},
   "outputs": [
    {
     "data": {
      "text/html": [
       "<div>\n",
       "<style scoped>\n",
       "    .dataframe tbody tr th:only-of-type {\n",
       "        vertical-align: middle;\n",
       "    }\n",
       "\n",
       "    .dataframe tbody tr th {\n",
       "        vertical-align: top;\n",
       "    }\n",
       "\n",
       "    .dataframe thead th {\n",
       "        text-align: right;\n",
       "    }\n",
       "</style>\n",
       "<table border=\"1\" class=\"dataframe\">\n",
       "  <thead>\n",
       "    <tr style=\"text-align: right;\">\n",
       "      <th></th>\n",
       "      <th>Country Name</th>\n",
       "      <th>Country Code</th>\n",
       "      <th>Series Name</th>\n",
       "      <th>2014 [YR2014]</th>\n",
       "      <th>2015 [YR2015]</th>\n",
       "    </tr>\n",
       "  </thead>\n",
       "  <tbody>\n",
       "    <tr>\n",
       "      <th>0</th>\n",
       "      <td>Albania</td>\n",
       "      <td>ALB</td>\n",
       "      <td>Human capital (constant 2018 US$)</td>\n",
       "      <td>7.248767e+10</td>\n",
       "      <td>7.372787e+10</td>\n",
       "    </tr>\n",
       "    <tr>\n",
       "      <th>1</th>\n",
       "      <td>Albania</td>\n",
       "      <td>ALB</td>\n",
       "      <td>Human capital per capita (constant 2018 US$)</td>\n",
       "      <td>2.509002e+04</td>\n",
       "      <td>2.559371e+04</td>\n",
       "    </tr>\n",
       "    <tr>\n",
       "      <th>2</th>\n",
       "      <td>Albania</td>\n",
       "      <td>ALB</td>\n",
       "      <td>Human capital per capita, employed female (con...</td>\n",
       "      <td>2.957420e+03</td>\n",
       "      <td>2.987545e+03</td>\n",
       "    </tr>\n",
       "    <tr>\n",
       "      <th>3</th>\n",
       "      <td>Albania</td>\n",
       "      <td>ALB</td>\n",
       "      <td>Human capital per capita, employed male (const...</td>\n",
       "      <td>1.699138e+04</td>\n",
       "      <td>1.730701e+04</td>\n",
       "    </tr>\n",
       "    <tr>\n",
       "      <th>4</th>\n",
       "      <td>Albania</td>\n",
       "      <td>ALB</td>\n",
       "      <td>Human capital per capita, female (constant 201...</td>\n",
       "      <td>3.719608e+03</td>\n",
       "      <td>3.767628e+03</td>\n",
       "    </tr>\n",
       "  </tbody>\n",
       "</table>\n",
       "</div>"
      ],
      "text/plain": [
       "  Country Name Country Code  \\\n",
       "0      Albania          ALB   \n",
       "1      Albania          ALB   \n",
       "2      Albania          ALB   \n",
       "3      Albania          ALB   \n",
       "4      Albania          ALB   \n",
       "\n",
       "                                         Series Name  2014 [YR2014]  \\\n",
       "0                  Human capital (constant 2018 US$)   7.248767e+10   \n",
       "1       Human capital per capita (constant 2018 US$)   2.509002e+04   \n",
       "2  Human capital per capita, employed female (con...   2.957420e+03   \n",
       "3  Human capital per capita, employed male (const...   1.699138e+04   \n",
       "4  Human capital per capita, female (constant 201...   3.719608e+03   \n",
       "\n",
       "   2015 [YR2015]  \n",
       "0   7.372787e+10  \n",
       "1   2.559371e+04  \n",
       "2   2.987545e+03  \n",
       "3   1.730701e+04  \n",
       "4   3.767628e+03  "
      ]
     },
     "execution_count": 136,
     "metadata": {},
     "output_type": "execute_result"
    }
   ],
   "source": [
    "df_cut.head()"
   ]
  },
  {
   "cell_type": "code",
   "execution_count": 137,
   "id": "bcf6e432",
   "metadata": {},
   "outputs": [],
   "source": [
    "w_acc_insert=('''insert into w_acc values(%s, %s, %s, %s, %s)''')"
   ]
  },
  {
   "cell_type": "code",
   "execution_count": 138,
   "id": "6ec51e22",
   "metadata": {},
   "outputs": [
    {
     "name": "stdout",
     "output_type": "stream",
     "text": [
      "['Albania', 'ALB', 'Human capital (constant 2018 US$)', 72487665593.7119, 73727868221.5645]\n",
      "['Albania', 'ALB', 'Human capital per capita (constant 2018 US$)', 25090.0160027856, 25593.7068908403]\n",
      "['Albania', 'ALB', 'Human capital per capita, employed female (constant 2018 US$)', 2957.42019542181, 2987.54454097286]\n",
      "['Albania', 'ALB', 'Human capital per capita, employed male (constant 2018 US$)', 16991.3817485389, 17307.0124774391]\n",
      "['Albania', 'ALB', 'Human capital per capita, female (constant 2018 US$)', 3719.6078360264, 3767.62790316731]\n",
      "['Albania', 'ALB', 'Human capital per capita, male (constant 2018 US$)', 21370.4081667593, 21826.078987673]\n",
      "['Albania', 'ALB', 'Human capital per capita, self-employed female (constant 2018 US$)', 762.187640604563, 780.083362194467]\n",
      "['Albania', 'ALB', 'Human capital per capita, self-employed male (constant 2018 US$)', 4379.02641822031, 4519.06651023384]\n",
      "['Albania', 'ALB', 'Human capital, employed female (constant 2018 US$)', 8544294516.27392, 8606228521.81413]\n",
      "['Albania', 'ALB', 'Human capital, employed male (constant 2018 US$)', 49089868975.2308, 49856362764.7964]\n",
      "['Albania', 'ALB', 'Human capital, female (constant 2018 US$)', 10746333877.4952, 10853417003.5378]\n",
      "['Albania', 'ALB', 'Human capital, male (constant 2018 US$)', 61741331716.2168, 62874451218.0267]\n",
      "['Albania', 'ALB', 'Human capital, self-employed female (constant 2018 US$)', 2202039361.22121, 2247188481.72369]\n",
      "['Albania', 'ALB', 'Human capital, self-employed male (constant 2018 US$)', 12651462740.986, 13018088453.2302]\n",
      "['Albania', 'ALB', 'Natural capital (constant 2018 US$)', 22581942865.5316, 25229850088.2279]\n",
      "['Albania', 'ALB', 'Natural capital per capita (constant 2018 US$)', 7816.24436694961, 8758.22675514551]\n",
      "['Albania', 'ALB', 'Natural capital per capita, agricultural land (constant 2018 US$)', 4717.22528403578, 4876.61826101942]\n",
      "['Albania', 'ALB', 'Natural capital per capita, agricultural land: cropland (constant 2018 US$)', 2042.14603721789, 2157.08245791201]\n",
      "['Albania', 'ALB', 'Natural capital per capita, agricultural land: pastureland (constant 2018 US$)', 2675.07924681789, 2719.53580310741]\n",
      "['Albania', 'ALB', 'Natural capital per capita, fisheries (constant 2018 US$)', 0.0, 2.17904154450862]\n",
      "['Albania', 'ALB', 'Natural capital per capita, forests: ecosystem services (constant 2018 US$)', 942.813580617932, 964.400874937426]\n",
      "['Albania', 'ALB', 'Natural capital per capita, forests: timber (constant 2018 US$)', 173.975394218363, 204.642855625162]\n",
      "['Albania', 'ALB', 'Natural capital per capita, fossil fuels (constant 2018 US$)', 1666.68006897186, 1762.90893279011]\n",
      "['Albania', 'ALB', 'Natural capital per capita, mangroves (constant 2018 US$)', 0.0, 0.0]\n",
      "['Albania', 'ALB', 'Natural capital per capita, nonrenewable assets (constant 2018 US$)', 1794.10620056593, 1880.41560224048]\n",
      "['Albania', 'ALB', 'Natural capital per capita, nonrenewable assets: coal (constant 2018 US$)', 0.49127802010349, 1.61178885567901]\n",
      "['Albania', 'ALB', 'Natural capital per capita, nonrenewable assets: gas (constant 2018 US$)', 11.3843821163193, 14.0581781776441]\n",
      "['Albania', 'ALB', 'Natural capital per capita, nonrenewable assets: minerals (constant 2018 US$)', 127.426131594074, 117.506669450366]\n",
      "['Albania', 'ALB', 'Natural capital per capita, nonrenewable assets: oil (constant 2018 US$)', 1654.80440883543, 1747.23896575679]\n",
      "['Albania', 'ALB', 'Natural capital per capita, protected areas (constant 2018 US$)', 188.123907511604, 829.970119778517]\n",
      "['Albania', 'ALB', 'Natural capital per capita, renewable (constant 2018 US$)', 6022.13816638368, 6877.81115290503]\n",
      "['Albania', 'ALB', 'Natural capital, agricultural land (constant 2018 US$)', 13628554437.0089, 14048088854.3734]\n",
      "['Albania', 'ALB', 'Natural capital, agricultural land: cropland (constant 2018 US$)', 5899972284.71036, 6213913907.75451]\n",
      "['Albania', 'ALB', 'Natural capital, agricultural land: pastureland (constant 2018 US$)', 7728582152.29856, 7834174946.61891]\n",
      "['Albania', 'ALB', 'Natural capital, fisheries (constant 2018 US$)', 0.0, 6277171.51439062]\n",
      "['Albania', 'ALB', 'Natural capital, forests: ecosystem services (constant 2018 US$)', 2723886487.01759, 2778152493.63487]\n",
      "['Albania', 'ALB', 'Natural capital, forests: timber (constant 2018 US$)', 502633007.33785, 589515288.127971]\n",
      "['Albania', 'ALB', 'Natural capital, fossil fuels (constant 2018 US$)', 4815212053.98687, 5078417051.41528]\n",
      "['Albania', 'ALB', 'Natural capital, mangroves (constant 2018 US$)', 0.0, 0.0]\n",
      "['Albania', 'ALB', 'Natural capital, nonrenewable assets (constant 2018 US$)', 5183359400.47983, 5416918866.62096]\n"
     ]
    }
   ],
   "source": [
    "for i, row in df_cut.iterrows():\n",
    "    print(list(row))\n",
    "    cur.execute(w_acc_insert,list(row))"
   ]
  },
  {
   "cell_type": "code",
   "execution_count": 139,
   "id": "faddfcec",
   "metadata": {},
   "outputs": [
    {
     "data": {
      "text/plain": [
       "['Albania',\n",
       " 'ALB',\n",
       " 'Natural capital, nonrenewable assets (constant 2018 US$)',\n",
       " 5183359400.47983,\n",
       " 5416918866.62096]"
      ]
     },
     "execution_count": 139,
     "metadata": {},
     "output_type": "execute_result"
    }
   ],
   "source": [
    "list(row)"
   ]
  },
  {
   "cell_type": "code",
   "execution_count": 125,
   "id": "ccffcfa6",
   "metadata": {},
   "outputs": [],
   "source": [
    "conn.commit()"
   ]
  },
  {
   "cell_type": "code",
   "execution_count": null,
   "id": "638e492b",
   "metadata": {},
   "outputs": [],
   "source": []
  },
  {
   "cell_type": "code",
   "execution_count": null,
   "id": "589a0f40",
   "metadata": {},
   "outputs": [],
   "source": []
  },
  {
   "cell_type": "code",
   "execution_count": 126,
   "id": "69f7462b",
   "metadata": {},
   "outputs": [],
   "source": [
    "conn.close()\n",
    "cur.close()"
   ]
  },
  {
   "cell_type": "code",
   "execution_count": null,
   "id": "547d9f73",
   "metadata": {},
   "outputs": [],
   "source": []
  }
 ],
 "metadata": {
  "kernelspec": {
   "display_name": "Python 3 (ipykernel)",
   "language": "python",
   "name": "python3"
  },
  "language_info": {
   "codemirror_mode": {
    "name": "ipython",
    "version": 3
   },
   "file_extension": ".py",
   "mimetype": "text/x-python",
   "name": "python",
   "nbconvert_exporter": "python",
   "pygments_lexer": "ipython3",
   "version": "3.10.7"
  }
 },
 "nbformat": 4,
 "nbformat_minor": 5
}
