{
 "cells": [
  {
   "cell_type": "code",
   "execution_count": 1,
   "id": "f79e6dbd",
   "metadata": {},
   "outputs": [
    {
     "name": "stdout",
     "output_type": "stream",
     "text": [
      "Defaulting to user installation because normal site-packages is not writeable\n",
      "Requirement already satisfied: kafka-python in /home/deba/.local/lib/python3.10/site-packages (2.0.2)\n",
      "Note: you may need to restart the kernel to use updated packages.\n"
     ]
    }
   ],
   "source": [
    "pip install kafka-python"
   ]
  },
  {
   "cell_type": "code",
   "execution_count": 25,
   "id": "529be23f",
   "metadata": {},
   "outputs": [],
   "source": [
    "from kafka import KafkaProducer\n",
    "import json\n",
    "\n",
    "# Required setting for Kafka Producer\n",
    "bootstrap_servers = ['localhost:9092']\n",
    "topicname = 'train_topic'\n",
    "producer = KafkaProducer(bootstrap_servers = bootstrap_servers)"
   ]
  },
  {
   "cell_type": "code",
   "execution_count": 27,
   "id": "61f2c89c",
   "metadata": {},
   "outputs": [
    {
     "name": "stdout",
     "output_type": "stream",
     "text": [
      "Your ID: 56\n",
      "Your F_Name: deba\n",
      "Your L_Name: adak\n",
      "Prod_ID: ip15\n",
      "Product Name: iphone 15\n",
      "<class 'dict'>\n",
      "{'id': '56', 'fname': 'deba', 'lname': 'adak', 'prod_id': 'ip15', 'product': 'iphone 15'}\n",
      "<class 'str'>\n",
      "{\"id\": \"56\", \"fname\": \"deba\", \"lname\": \"adak\", \"prod_id\": \"ip15\", \"product\": \"iphone 15\"}\n",
      "b'{\"id\": \"56\", \"fname\": \"deba\", \"lname\": \"adak\", \"prod_id\": \"ip15\", \"product\": \"iphone 15\"}'\n",
      "<kafka.producer.future.FutureRecordMetadata object at 0x7f2c9dcd6a40>\n",
      "RecordMetadata(topic='train_topic', partition=0, topic_partition=TopicPartition(topic='train_topic', partition=0), offset=27, timestamp=1680281598525, log_start_offset=0, checksum=None, serialized_key_size=-1, serialized_value_size=89, serialized_header_size=-1)\n",
      "train_topic 0\n",
      "Still looking for something(Yes/No)?n\n"
     ]
    }
   ],
   "source": [
    "status = True\n",
    "while status:\n",
    "    #dic={'id': '56', 'fname': 'deba', 'lname': 'adak', 'prod_id': 'ip15', 'product': 'iphone 15'}\n",
    "    dic.setdefault('id',input('Your ID: '))\n",
    "    dic.setdefault('fname',input('Your F_Name: '))\n",
    "    dic.setdefault('lname',input('Your L_Name: '))\n",
    "    dic.setdefault('prod_id',input('Prod_ID: '))\n",
    "    dic.setdefault('product',input('Product Name: ')) \n",
    "    print(type(dic))\n",
    "    print(dic)\n",
    "    ack = producer.send(topicname, json.dumps(dic).encode('utf-8'))\n",
    "    metadata = ack.get()\n",
    "    print(type(json.dumps(dic)))\n",
    "    print(json.dumps(dic))\n",
    "    print(json.dumps(dic).encode('utf-8'))\n",
    "    print(ack)\n",
    "    print(metadata)\n",
    "    print(metadata.topic, metadata.partition)\n",
    "    status = input('Still looking for something(Yes/No)?')\n",
    "    if status == 'Yes':\n",
    "        status = True\n",
    "    else:\n",
    "        status = False"
   ]
  },
  {
   "cell_type": "code",
   "execution_count": 19,
   "id": "577961c3",
   "metadata": {},
   "outputs": [],
   "source": [
    " producer.close();"
   ]
  },
  {
   "cell_type": "code",
   "execution_count": null,
   "id": "20e9c15b",
   "metadata": {},
   "outputs": [],
   "source": []
  },
  {
   "cell_type": "code",
   "execution_count": null,
   "id": "09735557",
   "metadata": {},
   "outputs": [],
   "source": []
  },
  {
   "cell_type": "code",
   "execution_count": null,
   "id": "0a38131b",
   "metadata": {},
   "outputs": [],
   "source": []
  },
  {
   "cell_type": "code",
   "execution_count": null,
   "id": "b463a256",
   "metadata": {},
   "outputs": [],
   "source": []
  },
  {
   "cell_type": "code",
   "execution_count": null,
   "id": "8457d6a5",
   "metadata": {},
   "outputs": [],
   "source": []
  },
  {
   "cell_type": "code",
   "execution_count": null,
   "id": "a890b086",
   "metadata": {},
   "outputs": [],
   "source": []
  },
  {
   "cell_type": "code",
   "execution_count": null,
   "id": "5b31ccd4",
   "metadata": {},
   "outputs": [],
   "source": []
  },
  {
   "cell_type": "code",
   "execution_count": null,
   "id": "576c5c55",
   "metadata": {},
   "outputs": [],
   "source": []
  },
  {
   "cell_type": "code",
   "execution_count": null,
   "id": "5fb1306b",
   "metadata": {},
   "outputs": [],
   "source": []
  }
 ],
 "metadata": {
  "kernelspec": {
   "display_name": "Python 3 (ipykernel)",
   "language": "python",
   "name": "python3"
  },
  "language_info": {
   "codemirror_mode": {
    "name": "ipython",
    "version": 3
   },
   "file_extension": ".py",
   "mimetype": "text/x-python",
   "name": "python",
   "nbconvert_exporter": "python",
   "pygments_lexer": "ipython3",
   "version": "3.10.7"
  }
 },
 "nbformat": 4,
 "nbformat_minor": 5
}
