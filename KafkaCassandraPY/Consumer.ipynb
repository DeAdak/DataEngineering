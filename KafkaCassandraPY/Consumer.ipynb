{
 "cells": [
  {
   "cell_type": "code",
   "execution_count": 15,
   "id": "692642cc",
   "metadata": {},
   "outputs": [],
   "source": [
    "from kafka import KafkaConsumer"
   ]
  },
  {
   "cell_type": "code",
   "execution_count": 11,
   "id": "3c908e95",
   "metadata": {},
   "outputs": [
    {
     "name": "stdout",
     "output_type": "stream",
     "text": [
      "Defaulting to user installation because normal site-packages is not writeable\n",
      "Collecting cassandra-driver\n",
      "  Downloading cassandra_driver-3.26.0-cp310-cp310-manylinux_2_12_x86_64.manylinux2010_x86_64.whl (3.6 MB)\n",
      "\u001b[2K     \u001b[38;2;114;156;31m━━━━━━━━━━━━━━━━━━━━━━━━━━━━━━━━━━━━━━━━\u001b[0m \u001b[32m3.6/3.6 MB\u001b[0m \u001b[31m3.4 MB/s\u001b[0m eta \u001b[36m0:00:00\u001b[0mm eta \u001b[36m0:00:01\u001b[0m0:01\u001b[0m:01\u001b[0m\n",
      "\u001b[?25hCollecting geomet<0.3,>=0.1\n",
      "  Using cached geomet-0.2.1.post1-py3-none-any.whl (18 kB)\n",
      "Requirement already satisfied: six>=1.9 in /usr/lib/python3/dist-packages (from cassandra-driver) (1.16.0)\n",
      "Requirement already satisfied: click in /usr/lib/python3/dist-packages (from geomet<0.3,>=0.1->cassandra-driver) (8.0.3)\n",
      "Installing collected packages: geomet, cassandra-driver\n",
      "Successfully installed cassandra-driver-3.26.0 geomet-0.2.1.post1\n",
      "Note: you may need to restart the kernel to use updated packages.\n"
     ]
    }
   ],
   "source": [
    "pip install cassandra-driver"
   ]
  },
  {
   "cell_type": "code",
   "execution_count": 16,
   "id": "2b674fab",
   "metadata": {},
   "outputs": [],
   "source": [
    "import cassandra"
   ]
  },
  {
   "cell_type": "code",
   "execution_count": 23,
   "id": "87c76c45",
   "metadata": {},
   "outputs": [
    {
     "name": "stdout",
     "output_type": "stream",
     "text": [
      "{'id': '56', 'fname': 'deba', 'lname': 'adak', 'prod_id': 'ip15', 'product': 'iphone 15'}\n",
      "Ended by user!!\n"
     ]
    }
   ],
   "source": [
    "from cassandra.cluster import Cluster\n",
    "from json import loads \n",
    "cluster = Cluster(['127.0.0.1'])\n",
    "session = cluster.connect('first_tab')\n",
    "query = \"\"\"update cust_data set cnt = cnt + 1 where id = %s and fname = %s and lname = %s and prod_id = %s and product = %s\"\"\"\n",
    "# consumer = KafkaConsumer(topicname, bootstrap_servers = bootstrap_servers,auto_offset_reset='earliest',group_id=\"test-consumer-group\")\n",
    "# consumer = KafkaConsumer('train_topic',bootstrap_servers=['localhost:9092'],value_deserializer = lambda x : loads(x).decode('utf-8'))\n",
    "consumer = KafkaConsumer ('train_topic', group_id = 'my_group_id1',bootstrap_servers=['localhost:9092'],\n",
    "    auto_offset_reset = 'latest',value_deserializer=lambda x: loads(x.decode('utf-8')))  \n",
    "    \n",
    "### Reading the message from consumer\n",
    "try:\n",
    "    for message in consumer:\n",
    "        print(message.value)\n",
    "        val = message.value.values()\n",
    "        val = list(val)\n",
    "        session.execute(query,(val[0],val[1],val[2],val[3],val[4]))\n",
    "except KeyboardInterrupt:\n",
    "    print('Ended by user!!')"
   ]
  },
  {
   "cell_type": "code",
   "execution_count": 18,
   "id": "7c23ddaf",
   "metadata": {},
   "outputs": [],
   "source": [
    "consumer.close()"
   ]
  },
  {
   "cell_type": "code",
   "execution_count": null,
   "id": "3ba87d79",
   "metadata": {},
   "outputs": [],
   "source": []
  },
  {
   "cell_type": "code",
   "execution_count": null,
   "id": "5fee2926",
   "metadata": {},
   "outputs": [],
   "source": []
  },
  {
   "cell_type": "code",
   "execution_count": null,
   "id": "7168117b",
   "metadata": {},
   "outputs": [],
   "source": []
  },
  {
   "cell_type": "code",
   "execution_count": null,
   "id": "3d517a35",
   "metadata": {},
   "outputs": [],
   "source": []
  }
 ],
 "metadata": {
  "kernelspec": {
   "display_name": "Python 3 (ipykernel)",
   "language": "python",
   "name": "python3"
  },
  "language_info": {
   "codemirror_mode": {
    "name": "ipython",
    "version": 3
   },
   "file_extension": ".py",
   "mimetype": "text/x-python",
   "name": "python",
   "nbconvert_exporter": "python",
   "pygments_lexer": "ipython3",
   "version": "3.10.7"
  }
 },
 "nbformat": 4,
 "nbformat_minor": 5
}
